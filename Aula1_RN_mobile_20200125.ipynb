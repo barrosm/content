{
  "nbformat": 4,
  "nbformat_minor": 0,
  "metadata": {
    "colab": {
      "name": "Aula1_RN_mobile_20200125.ipynb",
      "provenance": [],
      "collapsed_sections": [],
      "include_colab_link": true
    },
    "kernelspec": {
      "name": "python3",
      "display_name": "Python 3"
    },
    "accelerator": "TPU"
  },
  "cells": [
    {
      "cell_type": "markdown",
      "metadata": {
        "id": "view-in-github",
        "colab_type": "text"
      },
      "source": [
        "<a href=\"https://colab.research.google.com/github/barrosm/content/blob/master/Aula1_RN_mobile_20200125.ipynb\" target=\"_parent\"><img src=\"https://colab.research.google.com/assets/colab-badge.svg\" alt=\"Open In Colab\"/></a>"
      ]
    },
    {
      "cell_type": "markdown",
      "metadata": {
        "id": "DdqJg1YKmjXC",
        "colab_type": "text"
      },
      "source": [
        "# INICIALIZAÇÃO"
      ]
    },
    {
      "cell_type": "code",
      "metadata": {
        "id": "YUN_Hm4rBpIC",
        "colab_type": "code",
        "colab": {}
      },
      "source": [
        "# Ir no Runtime antes para pedir GPU (Runtime > Change Runtime Type)\n",
        "#Informações sobre a placa NVDIA da VM (se houver)\n",
        "#!nvidia-smi  #comando da placa nvdia pra saber o que está rodando"
      ],
      "execution_count": 0,
      "outputs": []
    },
    {
      "cell_type": "code",
      "metadata": {
        "id": "40s5D_N030lZ",
        "colab_type": "code",
        "colab": {
          "base_uri": "https://localhost:8080/",
          "height": 122
        },
        "outputId": "c9bce73c-ad21-4d21-c8ac-54c220687a40"
      },
      "source": [
        "#para conectar ao Drive\n",
        "from google.colab import drive # Carrega biblioteca para montar e carregar drive\n",
        "drive.mount('/content/drive') # Esse código pedirá autenticação\n"
      ],
      "execution_count": 8,
      "outputs": [
        {
          "output_type": "stream",
          "text": [
            "Go to this URL in a browser: https://accounts.google.com/o/oauth2/auth?client_id=947318989803-6bn6qk8qdgf4n4g3pfee6491hc0brc4i.apps.googleusercontent.com&redirect_uri=urn%3aietf%3awg%3aoauth%3a2.0%3aoob&response_type=code&scope=email%20https%3a%2f%2fwww.googleapis.com%2fauth%2fdocs.test%20https%3a%2f%2fwww.googleapis.com%2fauth%2fdrive%20https%3a%2f%2fwww.googleapis.com%2fauth%2fdrive.photos.readonly%20https%3a%2f%2fwww.googleapis.com%2fauth%2fpeopleapi.readonly\n",
            "\n",
            "Enter your authorization code:\n",
            "··········\n",
            "Mounted at /content/drive\n"
          ],
          "name": "stdout"
        }
      ]
    },
    {
      "cell_type": "code",
      "metadata": {
        "id": "a5TCQhMB4RmV",
        "colab_type": "code",
        "colab": {}
      },
      "source": [
        "\n",
        "import os\n",
        "workdir_path = '/content/drive/My Drive/BIMaster_2019/' \n",
        "os.chdir(workdir_path)"
      ],
      "execution_count": 0,
      "outputs": []
    },
    {
      "cell_type": "code",
      "metadata": {
        "id": "669ANL8dWQ4h",
        "colab_type": "code",
        "colab": {
          "base_uri": "https://localhost:8080/",
          "height": 255
        },
        "outputId": "27bea62d-f99b-42e3-a591-238c183f3b78"
      },
      "source": [
        "!ls\n",
        "#https://colab.research.google.com/drive/1MPBU7kXUIbZcyR8jMJgobImvmQ5TGWAA"
      ],
      "execution_count": 10,
      "outputs": [
        {
          "output_type": "stream",
          "text": [
            " aula_20191109_leonardo\n",
            " aula_20191123_leonardo\n",
            " aula_20191207_leonardo\n",
            " aula_logica_fuzzy\n",
            " BIMaster_2019_Business_Intelligence.rar\n",
            " BIMaster_2019_DM.rar\n",
            " BIMaster_2019_Machine_Learning.rar\n",
            " BIMaster_2019_SAD.rar\n",
            " BreastCancer.csv\n",
            "'Copy of similaridade de textot.ipynb'\n",
            "'Copy of songdata.csv'\n",
            " draw_neural_net.py\n",
            " mobile.csv\n",
            " trabalho_leonardo\n"
          ],
          "name": "stdout"
        }
      ]
    },
    {
      "cell_type": "markdown",
      "metadata": {
        "id": "ESwS4GPDmzhy",
        "colab_type": "text"
      },
      "source": [
        "### Importacao de bibliotecas"
      ]
    },
    {
      "cell_type": "code",
      "metadata": {
        "id": "keXOY9uF5FbU",
        "colab_type": "code",
        "colab": {}
      },
      "source": [
        "import numpy as np\n",
        "import pandas as pd\n",
        "import matplotlib.pyplot as plt\n",
        "import seaborn as sns; \n",
        "sns.set(rc={'figure.figsize':(17,6)})\n",
        "\n",
        "pd.options.display.max_columns = None"
      ],
      "execution_count": 0,
      "outputs": []
    },
    {
      "cell_type": "code",
      "metadata": {
        "id": "s2HHPi4qpWOJ",
        "colab_type": "code",
        "colab": {
          "base_uri": "https://localhost:8080/",
          "height": 224
        },
        "outputId": "d91edde4-b612-4ccf-de3c-984aeb46ac64"
      },
      "source": [
        "#Carregar a base e visualizar primeiras linhas\n",
        "df1 = pd.read_csv('mobile.csv', header=0)  #header=-1 indica que não há linha de header\n",
        "df1.head()"
      ],
      "execution_count": 12,
      "outputs": [
        {
          "output_type": "execute_result",
          "data": {
            "text/html": [
              "<div>\n",
              "<style scoped>\n",
              "    .dataframe tbody tr th:only-of-type {\n",
              "        vertical-align: middle;\n",
              "    }\n",
              "\n",
              "    .dataframe tbody tr th {\n",
              "        vertical-align: top;\n",
              "    }\n",
              "\n",
              "    .dataframe thead th {\n",
              "        text-align: right;\n",
              "    }\n",
              "</style>\n",
              "<table border=\"1\" class=\"dataframe\">\n",
              "  <thead>\n",
              "    <tr style=\"text-align: right;\">\n",
              "      <th></th>\n",
              "      <th>battery_power</th>\n",
              "      <th>blue</th>\n",
              "      <th>clock_speed</th>\n",
              "      <th>dual_sim</th>\n",
              "      <th>fc</th>\n",
              "      <th>four_g</th>\n",
              "      <th>int_memory</th>\n",
              "      <th>m_dep</th>\n",
              "      <th>mobile_wt</th>\n",
              "      <th>n_cores</th>\n",
              "      <th>pc</th>\n",
              "      <th>px_height</th>\n",
              "      <th>px_width</th>\n",
              "      <th>ram</th>\n",
              "      <th>sc_h</th>\n",
              "      <th>sc_w</th>\n",
              "      <th>talk_time</th>\n",
              "      <th>three_g</th>\n",
              "      <th>touch_screen</th>\n",
              "      <th>wifi</th>\n",
              "      <th>price_range</th>\n",
              "    </tr>\n",
              "  </thead>\n",
              "  <tbody>\n",
              "    <tr>\n",
              "      <th>0</th>\n",
              "      <td>842</td>\n",
              "      <td>0</td>\n",
              "      <td>2.2</td>\n",
              "      <td>0</td>\n",
              "      <td>1</td>\n",
              "      <td>0</td>\n",
              "      <td>7</td>\n",
              "      <td>0.6</td>\n",
              "      <td>188</td>\n",
              "      <td>2</td>\n",
              "      <td>2</td>\n",
              "      <td>20</td>\n",
              "      <td>756</td>\n",
              "      <td>2549</td>\n",
              "      <td>9</td>\n",
              "      <td>7</td>\n",
              "      <td>19</td>\n",
              "      <td>0</td>\n",
              "      <td>0</td>\n",
              "      <td>1</td>\n",
              "      <td>1</td>\n",
              "    </tr>\n",
              "    <tr>\n",
              "      <th>1</th>\n",
              "      <td>1021</td>\n",
              "      <td>1</td>\n",
              "      <td>0.5</td>\n",
              "      <td>1</td>\n",
              "      <td>0</td>\n",
              "      <td>1</td>\n",
              "      <td>53</td>\n",
              "      <td>0.7</td>\n",
              "      <td>136</td>\n",
              "      <td>3</td>\n",
              "      <td>6</td>\n",
              "      <td>905</td>\n",
              "      <td>1988</td>\n",
              "      <td>2631</td>\n",
              "      <td>17</td>\n",
              "      <td>3</td>\n",
              "      <td>7</td>\n",
              "      <td>1</td>\n",
              "      <td>1</td>\n",
              "      <td>0</td>\n",
              "      <td>2</td>\n",
              "    </tr>\n",
              "    <tr>\n",
              "      <th>2</th>\n",
              "      <td>563</td>\n",
              "      <td>1</td>\n",
              "      <td>0.5</td>\n",
              "      <td>1</td>\n",
              "      <td>2</td>\n",
              "      <td>1</td>\n",
              "      <td>41</td>\n",
              "      <td>0.9</td>\n",
              "      <td>145</td>\n",
              "      <td>5</td>\n",
              "      <td>6</td>\n",
              "      <td>1263</td>\n",
              "      <td>1716</td>\n",
              "      <td>2603</td>\n",
              "      <td>11</td>\n",
              "      <td>2</td>\n",
              "      <td>9</td>\n",
              "      <td>1</td>\n",
              "      <td>1</td>\n",
              "      <td>0</td>\n",
              "      <td>2</td>\n",
              "    </tr>\n",
              "    <tr>\n",
              "      <th>3</th>\n",
              "      <td>615</td>\n",
              "      <td>1</td>\n",
              "      <td>2.5</td>\n",
              "      <td>0</td>\n",
              "      <td>0</td>\n",
              "      <td>0</td>\n",
              "      <td>10</td>\n",
              "      <td>0.8</td>\n",
              "      <td>131</td>\n",
              "      <td>6</td>\n",
              "      <td>9</td>\n",
              "      <td>1216</td>\n",
              "      <td>1786</td>\n",
              "      <td>2769</td>\n",
              "      <td>16</td>\n",
              "      <td>8</td>\n",
              "      <td>11</td>\n",
              "      <td>1</td>\n",
              "      <td>0</td>\n",
              "      <td>0</td>\n",
              "      <td>2</td>\n",
              "    </tr>\n",
              "    <tr>\n",
              "      <th>4</th>\n",
              "      <td>1821</td>\n",
              "      <td>1</td>\n",
              "      <td>1.2</td>\n",
              "      <td>0</td>\n",
              "      <td>13</td>\n",
              "      <td>1</td>\n",
              "      <td>44</td>\n",
              "      <td>0.6</td>\n",
              "      <td>141</td>\n",
              "      <td>2</td>\n",
              "      <td>14</td>\n",
              "      <td>1208</td>\n",
              "      <td>1212</td>\n",
              "      <td>1411</td>\n",
              "      <td>8</td>\n",
              "      <td>2</td>\n",
              "      <td>15</td>\n",
              "      <td>1</td>\n",
              "      <td>1</td>\n",
              "      <td>0</td>\n",
              "      <td>1</td>\n",
              "    </tr>\n",
              "  </tbody>\n",
              "</table>\n",
              "</div>"
            ],
            "text/plain": [
              "   battery_power  blue  clock_speed  dual_sim  fc  four_g  int_memory  m_dep  \\\n",
              "0            842     0          2.2         0   1       0           7    0.6   \n",
              "1           1021     1          0.5         1   0       1          53    0.7   \n",
              "2            563     1          0.5         1   2       1          41    0.9   \n",
              "3            615     1          2.5         0   0       0          10    0.8   \n",
              "4           1821     1          1.2         0  13       1          44    0.6   \n",
              "\n",
              "   mobile_wt  n_cores  pc  px_height  px_width   ram  sc_h  sc_w  talk_time  \\\n",
              "0        188        2   2         20       756  2549     9     7         19   \n",
              "1        136        3   6        905      1988  2631    17     3          7   \n",
              "2        145        5   6       1263      1716  2603    11     2          9   \n",
              "3        131        6   9       1216      1786  2769    16     8         11   \n",
              "4        141        2  14       1208      1212  1411     8     2         15   \n",
              "\n",
              "   three_g  touch_screen  wifi  price_range  \n",
              "0        0             0     1            1  \n",
              "1        1             1     0            2  \n",
              "2        1             1     0            2  \n",
              "3        1             0     0            2  \n",
              "4        1             1     0            1  "
            ]
          },
          "metadata": {
            "tags": []
          },
          "execution_count": 12
        }
      ]
    },
    {
      "cell_type": "code",
      "metadata": {
        "id": "SEjjJD0NMojn",
        "colab_type": "code",
        "colab": {
          "base_uri": "https://localhost:8080/",
          "height": 34
        },
        "outputId": "3e77dbb7-0970-4105-9823-18651d90af60"
      },
      "source": [
        "#dimnesões da base\n",
        "df1.shape"
      ],
      "execution_count": 13,
      "outputs": [
        {
          "output_type": "execute_result",
          "data": {
            "text/plain": [
              "(2000, 21)"
            ]
          },
          "metadata": {
            "tags": []
          },
          "execution_count": 13
        }
      ]
    },
    {
      "cell_type": "markdown",
      "metadata": {
        "id": "MbmhtkuUtklE",
        "colab_type": "text"
      },
      "source": [
        "### Indicar a semente inicial e para divisão da base em treino e teste"
      ]
    },
    {
      "cell_type": "code",
      "metadata": {
        "id": "NQRJeOzItu5b",
        "colab_type": "code",
        "colab": {}
      },
      "source": [
        "import random\n",
        "np.random.seed(0) #semente inicial\n",
        "nlinhas = df1.shape[0]"
      ],
      "execution_count": 0,
      "outputs": []
    },
    {
      "cell_type": "code",
      "metadata": {
        "id": "ytXEwoJ_EW5D",
        "colab_type": "code",
        "colab": {}
      },
      "source": [
        "from sklearn.model_selection import train_test_split\n",
        "x_train, x_test, y_train, y_test = train_test_split(df1.loc[:,df1.columns != 'price_range'], df1['price_range'], test_size=0.3)"
      ],
      "execution_count": 0,
      "outputs": []
    },
    {
      "cell_type": "code",
      "metadata": {
        "id": "4iZMOC_etTqN",
        "colab_type": "code",
        "colab": {
          "base_uri": "https://localhost:8080/",
          "height": 317
        },
        "outputId": "025a9f49-2f6d-4b62-cbaf-bcdaace070f6"
      },
      "source": [
        "# alguns dados estatisticos por atributo\n",
        "x_train.describe()"
      ],
      "execution_count": 16,
      "outputs": [
        {
          "output_type": "execute_result",
          "data": {
            "text/html": [
              "<div>\n",
              "<style scoped>\n",
              "    .dataframe tbody tr th:only-of-type {\n",
              "        vertical-align: middle;\n",
              "    }\n",
              "\n",
              "    .dataframe tbody tr th {\n",
              "        vertical-align: top;\n",
              "    }\n",
              "\n",
              "    .dataframe thead th {\n",
              "        text-align: right;\n",
              "    }\n",
              "</style>\n",
              "<table border=\"1\" class=\"dataframe\">\n",
              "  <thead>\n",
              "    <tr style=\"text-align: right;\">\n",
              "      <th></th>\n",
              "      <th>battery_power</th>\n",
              "      <th>blue</th>\n",
              "      <th>clock_speed</th>\n",
              "      <th>dual_sim</th>\n",
              "      <th>fc</th>\n",
              "      <th>four_g</th>\n",
              "      <th>int_memory</th>\n",
              "      <th>m_dep</th>\n",
              "      <th>mobile_wt</th>\n",
              "      <th>n_cores</th>\n",
              "      <th>pc</th>\n",
              "      <th>px_height</th>\n",
              "      <th>px_width</th>\n",
              "      <th>ram</th>\n",
              "      <th>sc_h</th>\n",
              "      <th>sc_w</th>\n",
              "      <th>talk_time</th>\n",
              "      <th>three_g</th>\n",
              "      <th>touch_screen</th>\n",
              "      <th>wifi</th>\n",
              "    </tr>\n",
              "  </thead>\n",
              "  <tbody>\n",
              "    <tr>\n",
              "      <th>count</th>\n",
              "      <td>1400.000000</td>\n",
              "      <td>1400.000000</td>\n",
              "      <td>1400.000000</td>\n",
              "      <td>1400.000000</td>\n",
              "      <td>1400.000000</td>\n",
              "      <td>1400.000000</td>\n",
              "      <td>1400.000000</td>\n",
              "      <td>1400.000000</td>\n",
              "      <td>1400.000000</td>\n",
              "      <td>1400.000000</td>\n",
              "      <td>1400.000000</td>\n",
              "      <td>1400.000000</td>\n",
              "      <td>1400.000000</td>\n",
              "      <td>1400.000000</td>\n",
              "      <td>1400.000000</td>\n",
              "      <td>1400.000000</td>\n",
              "      <td>1400.000000</td>\n",
              "      <td>1400.000000</td>\n",
              "      <td>1400.000000</td>\n",
              "      <td>1400.000000</td>\n",
              "    </tr>\n",
              "    <tr>\n",
              "      <th>mean</th>\n",
              "      <td>1234.733571</td>\n",
              "      <td>0.494286</td>\n",
              "      <td>1.550214</td>\n",
              "      <td>0.514286</td>\n",
              "      <td>4.202143</td>\n",
              "      <td>0.523571</td>\n",
              "      <td>31.820000</td>\n",
              "      <td>0.504429</td>\n",
              "      <td>139.458571</td>\n",
              "      <td>4.516429</td>\n",
              "      <td>9.806429</td>\n",
              "      <td>659.709286</td>\n",
              "      <td>1264.751429</td>\n",
              "      <td>2102.074286</td>\n",
              "      <td>12.314286</td>\n",
              "      <td>5.838571</td>\n",
              "      <td>10.980714</td>\n",
              "      <td>0.764286</td>\n",
              "      <td>0.493571</td>\n",
              "      <td>0.509286</td>\n",
              "    </tr>\n",
              "    <tr>\n",
              "      <th>std</th>\n",
              "      <td>442.140136</td>\n",
              "      <td>0.500146</td>\n",
              "      <td>0.815758</td>\n",
              "      <td>0.499974</td>\n",
              "      <td>4.306668</td>\n",
              "      <td>0.499623</td>\n",
              "      <td>18.373277</td>\n",
              "      <td>0.288538</td>\n",
              "      <td>35.323154</td>\n",
              "      <td>2.273574</td>\n",
              "      <td>6.058362</td>\n",
              "      <td>444.851864</td>\n",
              "      <td>430.891660</td>\n",
              "      <td>1073.457393</td>\n",
              "      <td>4.163365</td>\n",
              "      <td>4.411914</td>\n",
              "      <td>5.491333</td>\n",
              "      <td>0.424596</td>\n",
              "      <td>0.500137</td>\n",
              "      <td>0.500092</td>\n",
              "    </tr>\n",
              "    <tr>\n",
              "      <th>min</th>\n",
              "      <td>501.000000</td>\n",
              "      <td>0.000000</td>\n",
              "      <td>0.500000</td>\n",
              "      <td>0.000000</td>\n",
              "      <td>0.000000</td>\n",
              "      <td>0.000000</td>\n",
              "      <td>2.000000</td>\n",
              "      <td>0.100000</td>\n",
              "      <td>80.000000</td>\n",
              "      <td>1.000000</td>\n",
              "      <td>0.000000</td>\n",
              "      <td>0.000000</td>\n",
              "      <td>500.000000</td>\n",
              "      <td>256.000000</td>\n",
              "      <td>5.000000</td>\n",
              "      <td>0.000000</td>\n",
              "      <td>2.000000</td>\n",
              "      <td>0.000000</td>\n",
              "      <td>0.000000</td>\n",
              "      <td>0.000000</td>\n",
              "    </tr>\n",
              "    <tr>\n",
              "      <th>25%</th>\n",
              "      <td>840.000000</td>\n",
              "      <td>0.000000</td>\n",
              "      <td>0.700000</td>\n",
              "      <td>0.000000</td>\n",
              "      <td>1.000000</td>\n",
              "      <td>0.000000</td>\n",
              "      <td>16.000000</td>\n",
              "      <td>0.200000</td>\n",
              "      <td>108.000000</td>\n",
              "      <td>3.000000</td>\n",
              "      <td>4.750000</td>\n",
              "      <td>295.750000</td>\n",
              "      <td>886.750000</td>\n",
              "      <td>1203.750000</td>\n",
              "      <td>9.000000</td>\n",
              "      <td>2.000000</td>\n",
              "      <td>6.000000</td>\n",
              "      <td>1.000000</td>\n",
              "      <td>0.000000</td>\n",
              "      <td>0.000000</td>\n",
              "    </tr>\n",
              "    <tr>\n",
              "      <th>50%</th>\n",
              "      <td>1224.000000</td>\n",
              "      <td>0.000000</td>\n",
              "      <td>1.500000</td>\n",
              "      <td>1.000000</td>\n",
              "      <td>3.000000</td>\n",
              "      <td>1.000000</td>\n",
              "      <td>31.000000</td>\n",
              "      <td>0.500000</td>\n",
              "      <td>140.000000</td>\n",
              "      <td>4.000000</td>\n",
              "      <td>10.000000</td>\n",
              "      <td>589.500000</td>\n",
              "      <td>1263.000000</td>\n",
              "      <td>2105.000000</td>\n",
              "      <td>12.000000</td>\n",
              "      <td>5.000000</td>\n",
              "      <td>11.000000</td>\n",
              "      <td>1.000000</td>\n",
              "      <td>0.000000</td>\n",
              "      <td>1.000000</td>\n",
              "    </tr>\n",
              "    <tr>\n",
              "      <th>75%</th>\n",
              "      <td>1610.250000</td>\n",
              "      <td>1.000000</td>\n",
              "      <td>2.300000</td>\n",
              "      <td>1.000000</td>\n",
              "      <td>7.000000</td>\n",
              "      <td>1.000000</td>\n",
              "      <td>48.000000</td>\n",
              "      <td>0.800000</td>\n",
              "      <td>169.250000</td>\n",
              "      <td>7.000000</td>\n",
              "      <td>15.000000</td>\n",
              "      <td>964.000000</td>\n",
              "      <td>1641.000000</td>\n",
              "      <td>2978.750000</td>\n",
              "      <td>16.000000</td>\n",
              "      <td>9.000000</td>\n",
              "      <td>16.000000</td>\n",
              "      <td>1.000000</td>\n",
              "      <td>1.000000</td>\n",
              "      <td>1.000000</td>\n",
              "    </tr>\n",
              "    <tr>\n",
              "      <th>max</th>\n",
              "      <td>1998.000000</td>\n",
              "      <td>1.000000</td>\n",
              "      <td>3.000000</td>\n",
              "      <td>1.000000</td>\n",
              "      <td>19.000000</td>\n",
              "      <td>1.000000</td>\n",
              "      <td>64.000000</td>\n",
              "      <td>1.000000</td>\n",
              "      <td>200.000000</td>\n",
              "      <td>8.000000</td>\n",
              "      <td>20.000000</td>\n",
              "      <td>1960.000000</td>\n",
              "      <td>1998.000000</td>\n",
              "      <td>3998.000000</td>\n",
              "      <td>19.000000</td>\n",
              "      <td>18.000000</td>\n",
              "      <td>20.000000</td>\n",
              "      <td>1.000000</td>\n",
              "      <td>1.000000</td>\n",
              "      <td>1.000000</td>\n",
              "    </tr>\n",
              "  </tbody>\n",
              "</table>\n",
              "</div>"
            ],
            "text/plain": [
              "       battery_power         blue  clock_speed     dual_sim           fc  \\\n",
              "count    1400.000000  1400.000000  1400.000000  1400.000000  1400.000000   \n",
              "mean     1234.733571     0.494286     1.550214     0.514286     4.202143   \n",
              "std       442.140136     0.500146     0.815758     0.499974     4.306668   \n",
              "min       501.000000     0.000000     0.500000     0.000000     0.000000   \n",
              "25%       840.000000     0.000000     0.700000     0.000000     1.000000   \n",
              "50%      1224.000000     0.000000     1.500000     1.000000     3.000000   \n",
              "75%      1610.250000     1.000000     2.300000     1.000000     7.000000   \n",
              "max      1998.000000     1.000000     3.000000     1.000000    19.000000   \n",
              "\n",
              "            four_g   int_memory        m_dep    mobile_wt      n_cores  \\\n",
              "count  1400.000000  1400.000000  1400.000000  1400.000000  1400.000000   \n",
              "mean      0.523571    31.820000     0.504429   139.458571     4.516429   \n",
              "std       0.499623    18.373277     0.288538    35.323154     2.273574   \n",
              "min       0.000000     2.000000     0.100000    80.000000     1.000000   \n",
              "25%       0.000000    16.000000     0.200000   108.000000     3.000000   \n",
              "50%       1.000000    31.000000     0.500000   140.000000     4.000000   \n",
              "75%       1.000000    48.000000     0.800000   169.250000     7.000000   \n",
              "max       1.000000    64.000000     1.000000   200.000000     8.000000   \n",
              "\n",
              "                pc    px_height     px_width          ram         sc_h  \\\n",
              "count  1400.000000  1400.000000  1400.000000  1400.000000  1400.000000   \n",
              "mean      9.806429   659.709286  1264.751429  2102.074286    12.314286   \n",
              "std       6.058362   444.851864   430.891660  1073.457393     4.163365   \n",
              "min       0.000000     0.000000   500.000000   256.000000     5.000000   \n",
              "25%       4.750000   295.750000   886.750000  1203.750000     9.000000   \n",
              "50%      10.000000   589.500000  1263.000000  2105.000000    12.000000   \n",
              "75%      15.000000   964.000000  1641.000000  2978.750000    16.000000   \n",
              "max      20.000000  1960.000000  1998.000000  3998.000000    19.000000   \n",
              "\n",
              "              sc_w    talk_time      three_g  touch_screen         wifi  \n",
              "count  1400.000000  1400.000000  1400.000000   1400.000000  1400.000000  \n",
              "mean      5.838571    10.980714     0.764286      0.493571     0.509286  \n",
              "std       4.411914     5.491333     0.424596      0.500137     0.500092  \n",
              "min       0.000000     2.000000     0.000000      0.000000     0.000000  \n",
              "25%       2.000000     6.000000     1.000000      0.000000     0.000000  \n",
              "50%       5.000000    11.000000     1.000000      0.000000     1.000000  \n",
              "75%       9.000000    16.000000     1.000000      1.000000     1.000000  \n",
              "max      18.000000    20.000000     1.000000      1.000000     1.000000  "
            ]
          },
          "metadata": {
            "tags": []
          },
          "execution_count": 16
        }
      ]
    },
    {
      "cell_type": "markdown",
      "metadata": {
        "id": "RRAnVMivghTG",
        "colab_type": "text"
      },
      "source": [
        "## Análise exploratória"
      ]
    },
    {
      "cell_type": "markdown",
      "metadata": {
        "id": "NzxlHd9xgmzk",
        "colab_type": "text"
      },
      "source": [
        "### Dispersão"
      ]
    },
    {
      "cell_type": "markdown",
      "metadata": {
        "id": "XgsM8ONyCwQn",
        "colab_type": "text"
      },
      "source": [
        "#### Visualização RAM x INT_MEMORY (Internal Memory in Gigabytes) e cores comos as classes de saída (PRICE_RANGE)"
      ]
    },
    {
      "cell_type": "code",
      "metadata": {
        "id": "Q9rwaHkHI-SF",
        "colab_type": "code",
        "colab": {}
      },
      "source": [
        "# Cor = faixa de preço do celular (y_train)\n",
        "plt.scatter(x_train['ram'], x_train['int_memory'], c=y_train, cmap=plt.cm.Spectral);\n",
        "plt.colorbar();\n",
        "plt.xlabel('ram');\n",
        "plt.ylabel('memory');\n",
        "plt.title('Memory vs Ram');"
      ],
      "execution_count": 0,
      "outputs": []
    },
    {
      "cell_type": "markdown",
      "metadata": {
        "id": "sHvKLhOFDCom",
        "colab_type": "text"
      },
      "source": [
        "#### Visualização PRICE_RANGE x BATTERY_POWER e cores comos as classes de saída (PRICE_RANGE)"
      ]
    },
    {
      "cell_type": "code",
      "metadata": {
        "id": "SrYmhJOymHPn",
        "colab_type": "code",
        "colab": {}
      },
      "source": [
        "df1.boxplot(column=['battery_power'], by=['price_range']);"
      ],
      "execution_count": 0,
      "outputs": []
    },
    {
      "cell_type": "code",
      "metadata": {
        "id": "y-rKj34W9XA_",
        "colab_type": "code",
        "colab": {}
      },
      "source": [
        "df1.boxplot(column = ['ram'], by= ['price_range']);"
      ],
      "execution_count": 0,
      "outputs": []
    },
    {
      "cell_type": "code",
      "metadata": {
        "id": "qlkSyZZCH6dr",
        "colab_type": "code",
        "colab": {}
      },
      "source": [
        "#análise de correlação\n",
        "import seaborn as sns\n",
        "corr = df1.corr()\n",
        "sns.heatmap(corr,cmap='YlGnBu',vmin=-1,vmax=1, yticklabels=True); #yticklabels = True garante que TODOS os labels serão exibidos"
      ],
      "execution_count": 0,
      "outputs": []
    },
    {
      "cell_type": "code",
      "metadata": {
        "id": "vIzV-M8jshll",
        "colab_type": "code",
        "colab": {}
      },
      "source": [
        "df1.boxplot(column = ['n_cores'], by= ['price_range']);"
      ],
      "execution_count": 0,
      "outputs": []
    },
    {
      "cell_type": "markdown",
      "metadata": {
        "id": "uqbR9OgKg_nG",
        "colab_type": "text"
      },
      "source": [
        "## **Normalizando os Dados**"
      ]
    },
    {
      "cell_type": "markdown",
      "metadata": {
        "id": "BsCZ1YnMSrQ9",
        "colab_type": "text"
      },
      "source": [
        "## Preste atenção na normalização para não sair besteira. Por exemplo, se vc normaliza entre [-1, + 1] e isso serve de input para uma ReLu, sempre que o resultado da normalização for < 0 vai ser mapeado em zero. Potencialmente você vai ter um monte de dados mapeados em zero!"
      ]
    },
    {
      "cell_type": "code",
      "metadata": {
        "id": "gR7nT_CDhC-x",
        "colab_type": "code",
        "colab": {}
      },
      "source": [
        "from sklearn import preprocessing\n",
        "preprocessParams = preprocessing.StandardScaler().fit(x_train)\n",
        "X_train_normalized = preprocessParams.transform(x_train)\n",
        "X_test_normalized = preprocessParams.transform(x_test)"
      ],
      "execution_count": 0,
      "outputs": []
    },
    {
      "cell_type": "code",
      "metadata": {
        "id": "tPOGg3MPTQAU",
        "colab_type": "code",
        "colab": {
          "base_uri": "https://localhost:8080/",
          "height": 34
        },
        "outputId": "bf82d1ae-0959-4ac3-93e8-a1148c6effbb"
      },
      "source": [
        "type(X_train_normalized)"
      ],
      "execution_count": 19,
      "outputs": [
        {
          "output_type": "execute_result",
          "data": {
            "text/plain": [
              "numpy.ndarray"
            ]
          },
          "metadata": {
            "tags": []
          },
          "execution_count": 19
        }
      ]
    },
    {
      "cell_type": "code",
      "metadata": {
        "id": "6UAPHh6UhGXG",
        "colab_type": "code",
        "colab": {}
      },
      "source": [
        "# Transformar em dataframe mantendo os nomes das colunas\n",
        "#X_train_normalized = pd.DataFrame(X_train_normalized, columns = x_train.columns.values) \n",
        "#X_test_normalized = pd.DataFrame(X_test_normalized, columns = x_test.columns.values)"
      ],
      "execution_count": 0,
      "outputs": []
    },
    {
      "cell_type": "markdown",
      "metadata": {
        "id": "ShoO1BwrYDYp",
        "colab_type": "text"
      },
      "source": [
        "# Rede Neural"
      ]
    },
    {
      "cell_type": "markdown",
      "metadata": {
        "id": "LCFM71HFUt1v",
        "colab_type": "text"
      },
      "source": [
        "### Este código utiliza o Tensorflow 1.x, e o padrão do Colab mudará para o 2.0 em breve, que já tem o keras built-in"
      ]
    },
    {
      "cell_type": "code",
      "metadata": {
        "id": "hgX9AMhS2iFy",
        "colab_type": "code",
        "colab": {
          "base_uri": "https://localhost:8080/",
          "height": 34
        },
        "outputId": "a83899d1-2d78-4e75-fd4d-7ebaa39d2b08"
      },
      "source": [
        "from keras import Model, Sequential\n",
        "from keras.layers import Dense\n",
        "from keras.optimizers import SGD"
      ],
      "execution_count": 21,
      "outputs": [
        {
          "output_type": "stream",
          "text": [
            "Using TensorFlow backend.\n"
          ],
          "name": "stderr"
        }
      ]
    },
    {
      "cell_type": "code",
      "metadata": {
        "id": "NWXnTlz03okl",
        "colab_type": "code",
        "colab": {
          "base_uri": "https://localhost:8080/",
          "height": 34
        },
        "outputId": "27ddd853-37b5-4126-d814-947aa0403e33"
      },
      "source": [
        "NumberOfClasses = len(y_train.unique())\n",
        "NumberOfClasses"
      ],
      "execution_count": 22,
      "outputs": [
        {
          "output_type": "execute_result",
          "data": {
            "text/plain": [
              "4"
            ]
          },
          "metadata": {
            "tags": []
          },
          "execution_count": 22
        }
      ]
    },
    {
      "cell_type": "markdown",
      "metadata": {
        "id": "2CIt6nqgT6Ub",
        "colab_type": "text"
      },
      "source": [
        "### A seguir você cria a RN, sequencialmente, usando Sequential. Sequential é uma classe, e você então chama os métodos dentro desta classe. A função Dense cria uma camada fully connected, i.e., é uma camada densa. Outra função que está sendo importada aqui é a SGD, Stochastic Gradient Descent, o método usado aqui para minimzar o erro da RN"
      ]
    },
    {
      "cell_type": "code",
      "metadata": {
        "id": "dhRNQLm2WGSe",
        "colab_type": "code",
        "colab": {
          "base_uri": "https://localhost:8080/",
          "height": 34
        },
        "outputId": "f94fde43-0f29-4d90-e9ff-b403ca96d7a4"
      },
      "source": [
        " X_train_normalized.shape[1:]"
      ],
      "execution_count": 23,
      "outputs": [
        {
          "output_type": "execute_result",
          "data": {
            "text/plain": [
              "(20,)"
            ]
          },
          "metadata": {
            "tags": []
          },
          "execution_count": 23
        }
      ]
    },
    {
      "cell_type": "code",
      "metadata": {
        "id": "QyKc1qZWu9pM",
        "colab_type": "code",
        "colab": {
          "base_uri": "https://localhost:8080/",
          "height": 343
        },
        "outputId": "4e1f6e27-db63-4d29-f0e7-41731aa003ba"
      },
      "source": [
        "RN = Sequential()\n",
        "# A seguir, camada densamente conectada com 10 neurônios\n",
        "# Existem algumas heurísticas para a escolha do número de neurônios na camada escondida\n",
        "# Também eu preciso dizer quantas entradas, aqui estou dizendo que é o número de colunas de X_train_normalized\n",
        "# Não vai funcionar se a gente passar simplesmente X_train_normalized.shape[1] que é igual a 20\n",
        "RN.add(Dense(10,input_shape = X_train_normalized.shape[1:],activation = 'sigmoid')) #ReLu, ....\n",
        "# O número de classes está sendo usado para 'settar' o número de classes na saída\n",
        "# A seguir a camada de saída\n",
        "RN.add(Dense(NumberOfClasses,activation = 'sigmoid'))\n",
        "# summary imprime a estrutura da rede\n",
        "RN.summary()\n",
        "# camada escondida = (10 neuronios)*(20 inputs) + 10 biases = 210\n",
        "# camada de saída = (4 neurônios) *(10 inputs = 10 saídas da camada anterior) + 4 biases = 44"
      ],
      "execution_count": 24,
      "outputs": [
        {
          "output_type": "stream",
          "text": [
            "WARNING:tensorflow:From /usr/local/lib/python3.6/dist-packages/keras/backend/tensorflow_backend.py:66: The name tf.get_default_graph is deprecated. Please use tf.compat.v1.get_default_graph instead.\n",
            "\n",
            "WARNING:tensorflow:From /usr/local/lib/python3.6/dist-packages/keras/backend/tensorflow_backend.py:541: The name tf.placeholder is deprecated. Please use tf.compat.v1.placeholder instead.\n",
            "\n",
            "WARNING:tensorflow:From /usr/local/lib/python3.6/dist-packages/keras/backend/tensorflow_backend.py:4432: The name tf.random_uniform is deprecated. Please use tf.random.uniform instead.\n",
            "\n",
            "Model: \"sequential_1\"\n",
            "_________________________________________________________________\n",
            "Layer (type)                 Output Shape              Param #   \n",
            "=================================================================\n",
            "dense_1 (Dense)              (None, 10)                210       \n",
            "_________________________________________________________________\n",
            "dense_2 (Dense)              (None, 4)                 44        \n",
            "=================================================================\n",
            "Total params: 254\n",
            "Trainable params: 254\n",
            "Non-trainable params: 0\n",
            "_________________________________________________________________\n"
          ],
          "name": "stdout"
        }
      ]
    },
    {
      "cell_type": "code",
      "metadata": {
        "id": "X3gFJdaa3Uqe",
        "colab_type": "code",
        "colab": {
          "base_uri": "https://localhost:8080/",
          "height": 1000
        },
        "outputId": "3910d134-bcf7-4ed0-a109-a90ee4640476"
      },
      "source": [
        "# treinamento\n",
        "from keras.utils import to_categorical\n",
        "sgd = SGD(lr=0.1, decay=1e-6, momentum=0.9)\n",
        "RN.compile(optimizer = sgd, loss = 'mean_squared_error', metrics = ['accuracy'])\n",
        "trainedRN = RN.fit(X_train_normalized,to_categorical(y_train),\n",
        "                            epochs = 100, verbose = 1)"
      ],
      "execution_count": 25,
      "outputs": [
        {
          "output_type": "stream",
          "text": [
            "WARNING:tensorflow:From /usr/local/lib/python3.6/dist-packages/keras/optimizers.py:793: The name tf.train.Optimizer is deprecated. Please use tf.compat.v1.train.Optimizer instead.\n",
            "\n",
            "WARNING:tensorflow:From /usr/local/lib/python3.6/dist-packages/keras/backend/tensorflow_backend.py:1033: The name tf.assign_add is deprecated. Please use tf.compat.v1.assign_add instead.\n",
            "\n",
            "WARNING:tensorflow:From /usr/local/lib/python3.6/dist-packages/keras/backend/tensorflow_backend.py:1020: The name tf.assign is deprecated. Please use tf.compat.v1.assign instead.\n",
            "\n",
            "WARNING:tensorflow:From /usr/local/lib/python3.6/dist-packages/keras/backend/tensorflow_backend.py:3005: The name tf.Session is deprecated. Please use tf.compat.v1.Session instead.\n",
            "\n",
            "Epoch 1/100\n",
            "WARNING:tensorflow:From /usr/local/lib/python3.6/dist-packages/keras/backend/tensorflow_backend.py:190: The name tf.get_default_session is deprecated. Please use tf.compat.v1.get_default_session instead.\n",
            "\n",
            "WARNING:tensorflow:From /usr/local/lib/python3.6/dist-packages/keras/backend/tensorflow_backend.py:197: The name tf.ConfigProto is deprecated. Please use tf.compat.v1.ConfigProto instead.\n",
            "\n",
            "WARNING:tensorflow:From /usr/local/lib/python3.6/dist-packages/keras/backend/tensorflow_backend.py:207: The name tf.global_variables is deprecated. Please use tf.compat.v1.global_variables instead.\n",
            "\n",
            "WARNING:tensorflow:From /usr/local/lib/python3.6/dist-packages/keras/backend/tensorflow_backend.py:216: The name tf.is_variable_initialized is deprecated. Please use tf.compat.v1.is_variable_initialized instead.\n",
            "\n",
            "WARNING:tensorflow:From /usr/local/lib/python3.6/dist-packages/keras/backend/tensorflow_backend.py:223: The name tf.variables_initializer is deprecated. Please use tf.compat.v1.variables_initializer instead.\n",
            "\n",
            "1400/1400 [==============================] - 0s 348us/step - loss: 0.2152 - acc: 0.2421\n",
            "Epoch 2/100\n",
            "1400/1400 [==============================] - 0s 34us/step - loss: 0.1886 - acc: 0.2821\n",
            "Epoch 3/100\n",
            "1400/1400 [==============================] - 0s 37us/step - loss: 0.1828 - acc: 0.3571\n",
            "Epoch 4/100\n",
            "1400/1400 [==============================] - 0s 36us/step - loss: 0.1757 - acc: 0.4707\n",
            "Epoch 5/100\n",
            "1400/1400 [==============================] - 0s 44us/step - loss: 0.1657 - acc: 0.5264\n",
            "Epoch 6/100\n",
            "1400/1400 [==============================] - 0s 32us/step - loss: 0.1530 - acc: 0.5786\n",
            "Epoch 7/100\n",
            "1400/1400 [==============================] - 0s 34us/step - loss: 0.1415 - acc: 0.5621\n",
            "Epoch 8/100\n",
            "1400/1400 [==============================] - 0s 33us/step - loss: 0.1331 - acc: 0.6221\n",
            "Epoch 9/100\n",
            "1400/1400 [==============================] - 0s 34us/step - loss: 0.1274 - acc: 0.6514\n",
            "Epoch 10/100\n",
            "1400/1400 [==============================] - 0s 30us/step - loss: 0.1232 - acc: 0.6550\n",
            "Epoch 11/100\n",
            "1400/1400 [==============================] - 0s 32us/step - loss: 0.1202 - acc: 0.6850\n",
            "Epoch 12/100\n",
            "1400/1400 [==============================] - 0s 32us/step - loss: 0.1178 - acc: 0.6950\n",
            "Epoch 13/100\n",
            "1400/1400 [==============================] - 0s 32us/step - loss: 0.1157 - acc: 0.7179\n",
            "Epoch 14/100\n",
            "1400/1400 [==============================] - 0s 32us/step - loss: 0.1139 - acc: 0.7271\n",
            "Epoch 15/100\n",
            "1400/1400 [==============================] - 0s 35us/step - loss: 0.1124 - acc: 0.7457\n",
            "Epoch 16/100\n",
            "1400/1400 [==============================] - 0s 33us/step - loss: 0.1108 - acc: 0.7593\n",
            "Epoch 17/100\n",
            "1400/1400 [==============================] - 0s 33us/step - loss: 0.1094 - acc: 0.7600\n",
            "Epoch 18/100\n",
            "1400/1400 [==============================] - 0s 32us/step - loss: 0.1080 - acc: 0.7714\n",
            "Epoch 19/100\n",
            "1400/1400 [==============================] - 0s 35us/step - loss: 0.1067 - acc: 0.7593\n",
            "Epoch 20/100\n",
            "1400/1400 [==============================] - 0s 31us/step - loss: 0.1054 - acc: 0.7943\n",
            "Epoch 21/100\n",
            "1400/1400 [==============================] - 0s 45us/step - loss: 0.1040 - acc: 0.7886\n",
            "Epoch 22/100\n",
            "1400/1400 [==============================] - 0s 30us/step - loss: 0.1026 - acc: 0.8000\n",
            "Epoch 23/100\n",
            "1400/1400 [==============================] - 0s 35us/step - loss: 0.1012 - acc: 0.8093\n",
            "Epoch 24/100\n",
            "1400/1400 [==============================] - 0s 34us/step - loss: 0.0996 - acc: 0.8136\n",
            "Epoch 25/100\n",
            "1400/1400 [==============================] - 0s 29us/step - loss: 0.0980 - acc: 0.8164\n",
            "Epoch 26/100\n",
            "1400/1400 [==============================] - 0s 32us/step - loss: 0.0962 - acc: 0.8350\n",
            "Epoch 27/100\n",
            "1400/1400 [==============================] - 0s 32us/step - loss: 0.0945 - acc: 0.8336\n",
            "Epoch 28/100\n",
            "1400/1400 [==============================] - 0s 30us/step - loss: 0.0924 - acc: 0.8407\n",
            "Epoch 29/100\n",
            "1400/1400 [==============================] - 0s 33us/step - loss: 0.0904 - acc: 0.8536\n",
            "Epoch 30/100\n",
            "1400/1400 [==============================] - 0s 35us/step - loss: 0.0883 - acc: 0.8543\n",
            "Epoch 31/100\n",
            "1400/1400 [==============================] - 0s 31us/step - loss: 0.0862 - acc: 0.8564\n",
            "Epoch 32/100\n",
            "1400/1400 [==============================] - 0s 29us/step - loss: 0.0840 - acc: 0.8629\n",
            "Epoch 33/100\n",
            "1400/1400 [==============================] - 0s 37us/step - loss: 0.0819 - acc: 0.8621\n",
            "Epoch 34/100\n",
            "1400/1400 [==============================] - 0s 37us/step - loss: 0.0798 - acc: 0.8693\n",
            "Epoch 35/100\n",
            "1400/1400 [==============================] - 0s 34us/step - loss: 0.0778 - acc: 0.8757\n",
            "Epoch 36/100\n",
            "1400/1400 [==============================] - 0s 34us/step - loss: 0.0758 - acc: 0.8829\n",
            "Epoch 37/100\n",
            "1400/1400 [==============================] - 0s 38us/step - loss: 0.0738 - acc: 0.8814\n",
            "Epoch 38/100\n",
            "1400/1400 [==============================] - 0s 33us/step - loss: 0.0721 - acc: 0.8871\n",
            "Epoch 39/100\n",
            "1400/1400 [==============================] - 0s 32us/step - loss: 0.0701 - acc: 0.8950\n",
            "Epoch 40/100\n",
            "1400/1400 [==============================] - 0s 36us/step - loss: 0.0683 - acc: 0.9036\n",
            "Epoch 41/100\n",
            "1400/1400 [==============================] - 0s 33us/step - loss: 0.0668 - acc: 0.9021\n",
            "Epoch 42/100\n",
            "1400/1400 [==============================] - 0s 34us/step - loss: 0.0650 - acc: 0.9064\n",
            "Epoch 43/100\n",
            "1400/1400 [==============================] - 0s 36us/step - loss: 0.0633 - acc: 0.9086\n",
            "Epoch 44/100\n",
            "1400/1400 [==============================] - 0s 42us/step - loss: 0.0617 - acc: 0.9214\n",
            "Epoch 45/100\n",
            "1400/1400 [==============================] - 0s 35us/step - loss: 0.0602 - acc: 0.9236\n",
            "Epoch 46/100\n",
            "1400/1400 [==============================] - 0s 37us/step - loss: 0.0586 - acc: 0.9264\n",
            "Epoch 47/100\n",
            "1400/1400 [==============================] - 0s 31us/step - loss: 0.0571 - acc: 0.9293\n",
            "Epoch 48/100\n",
            "1400/1400 [==============================] - 0s 33us/step - loss: 0.0556 - acc: 0.9364\n",
            "Epoch 49/100\n",
            "1400/1400 [==============================] - 0s 32us/step - loss: 0.0541 - acc: 0.9364\n",
            "Epoch 50/100\n",
            "1400/1400 [==============================] - 0s 33us/step - loss: 0.0527 - acc: 0.9436\n",
            "Epoch 51/100\n",
            "1400/1400 [==============================] - 0s 33us/step - loss: 0.0515 - acc: 0.9407\n",
            "Epoch 52/100\n",
            "1400/1400 [==============================] - 0s 34us/step - loss: 0.0500 - acc: 0.9479\n",
            "Epoch 53/100\n",
            "1400/1400 [==============================] - 0s 32us/step - loss: 0.0486 - acc: 0.9529\n",
            "Epoch 54/100\n",
            "1400/1400 [==============================] - 0s 31us/step - loss: 0.0473 - acc: 0.9557\n",
            "Epoch 55/100\n",
            "1400/1400 [==============================] - 0s 36us/step - loss: 0.0460 - acc: 0.9607\n",
            "Epoch 56/100\n",
            "1400/1400 [==============================] - 0s 31us/step - loss: 0.0448 - acc: 0.9600\n",
            "Epoch 57/100\n",
            "1400/1400 [==============================] - 0s 34us/step - loss: 0.0436 - acc: 0.9571\n",
            "Epoch 58/100\n",
            "1400/1400 [==============================] - 0s 33us/step - loss: 0.0425 - acc: 0.9600\n",
            "Epoch 59/100\n",
            "1400/1400 [==============================] - 0s 35us/step - loss: 0.0413 - acc: 0.9657\n",
            "Epoch 60/100\n",
            "1400/1400 [==============================] - 0s 32us/step - loss: 0.0403 - acc: 0.9621\n",
            "Epoch 61/100\n",
            "1400/1400 [==============================] - 0s 39us/step - loss: 0.0392 - acc: 0.9664\n",
            "Epoch 62/100\n",
            "1400/1400 [==============================] - 0s 33us/step - loss: 0.0383 - acc: 0.9686\n",
            "Epoch 63/100\n",
            "1400/1400 [==============================] - 0s 32us/step - loss: 0.0374 - acc: 0.9657\n",
            "Epoch 64/100\n",
            "1400/1400 [==============================] - 0s 36us/step - loss: 0.0365 - acc: 0.9657\n",
            "Epoch 65/100\n",
            "1400/1400 [==============================] - 0s 33us/step - loss: 0.0357 - acc: 0.9657\n",
            "Epoch 66/100\n",
            "1400/1400 [==============================] - 0s 35us/step - loss: 0.0348 - acc: 0.9729\n",
            "Epoch 67/100\n",
            "1400/1400 [==============================] - 0s 37us/step - loss: 0.0340 - acc: 0.9664\n",
            "Epoch 68/100\n",
            "1400/1400 [==============================] - 0s 33us/step - loss: 0.0332 - acc: 0.9693\n",
            "Epoch 69/100\n",
            "1400/1400 [==============================] - 0s 35us/step - loss: 0.0326 - acc: 0.9721\n",
            "Epoch 70/100\n",
            "1400/1400 [==============================] - 0s 30us/step - loss: 0.0318 - acc: 0.9714\n",
            "Epoch 71/100\n",
            "1400/1400 [==============================] - 0s 30us/step - loss: 0.0311 - acc: 0.9750\n",
            "Epoch 72/100\n",
            "1400/1400 [==============================] - 0s 33us/step - loss: 0.0305 - acc: 0.9721\n",
            "Epoch 73/100\n",
            "1400/1400 [==============================] - 0s 35us/step - loss: 0.0299 - acc: 0.9736\n",
            "Epoch 74/100\n",
            "1400/1400 [==============================] - 0s 31us/step - loss: 0.0294 - acc: 0.9714\n",
            "Epoch 75/100\n",
            "1400/1400 [==============================] - 0s 31us/step - loss: 0.0289 - acc: 0.9764\n",
            "Epoch 76/100\n",
            "1400/1400 [==============================] - 0s 32us/step - loss: 0.0282 - acc: 0.9707\n",
            "Epoch 77/100\n",
            "1400/1400 [==============================] - 0s 31us/step - loss: 0.0277 - acc: 0.9750\n",
            "Epoch 78/100\n",
            "1400/1400 [==============================] - 0s 33us/step - loss: 0.0272 - acc: 0.9750\n",
            "Epoch 79/100\n",
            "1400/1400 [==============================] - 0s 32us/step - loss: 0.0268 - acc: 0.9743\n",
            "Epoch 80/100\n",
            "1400/1400 [==============================] - 0s 32us/step - loss: 0.0264 - acc: 0.9721\n",
            "Epoch 81/100\n",
            "1400/1400 [==============================] - 0s 34us/step - loss: 0.0259 - acc: 0.9771\n",
            "Epoch 82/100\n",
            "1400/1400 [==============================] - 0s 31us/step - loss: 0.0254 - acc: 0.9764\n",
            "Epoch 83/100\n",
            "1400/1400 [==============================] - 0s 34us/step - loss: 0.0251 - acc: 0.9743\n",
            "Epoch 84/100\n",
            "1400/1400 [==============================] - 0s 33us/step - loss: 0.0247 - acc: 0.9807\n",
            "Epoch 85/100\n",
            "1400/1400 [==============================] - 0s 33us/step - loss: 0.0243 - acc: 0.9750\n",
            "Epoch 86/100\n",
            "1400/1400 [==============================] - 0s 29us/step - loss: 0.0239 - acc: 0.9771\n",
            "Epoch 87/100\n",
            "1400/1400 [==============================] - 0s 29us/step - loss: 0.0236 - acc: 0.9800\n",
            "Epoch 88/100\n",
            "1400/1400 [==============================] - 0s 33us/step - loss: 0.0233 - acc: 0.9821\n",
            "Epoch 89/100\n",
            "1400/1400 [==============================] - 0s 31us/step - loss: 0.0229 - acc: 0.9779\n",
            "Epoch 90/100\n",
            "1400/1400 [==============================] - 0s 33us/step - loss: 0.0225 - acc: 0.9786\n",
            "Epoch 91/100\n",
            "1400/1400 [==============================] - 0s 34us/step - loss: 0.0224 - acc: 0.9771\n",
            "Epoch 92/100\n",
            "1400/1400 [==============================] - 0s 37us/step - loss: 0.0220 - acc: 0.9771\n",
            "Epoch 93/100\n",
            "1400/1400 [==============================] - 0s 34us/step - loss: 0.0217 - acc: 0.9800\n",
            "Epoch 94/100\n",
            "1400/1400 [==============================] - 0s 29us/step - loss: 0.0215 - acc: 0.9786\n",
            "Epoch 95/100\n",
            "1400/1400 [==============================] - 0s 31us/step - loss: 0.0212 - acc: 0.9779\n",
            "Epoch 96/100\n",
            "1400/1400 [==============================] - 0s 32us/step - loss: 0.0209 - acc: 0.9786\n",
            "Epoch 97/100\n",
            "1400/1400 [==============================] - 0s 32us/step - loss: 0.0207 - acc: 0.9814\n",
            "Epoch 98/100\n",
            "1400/1400 [==============================] - 0s 33us/step - loss: 0.0205 - acc: 0.9807\n",
            "Epoch 99/100\n",
            "1400/1400 [==============================] - 0s 32us/step - loss: 0.0202 - acc: 0.9786\n",
            "Epoch 100/100\n",
            "1400/1400 [==============================] - 0s 39us/step - loss: 0.0200 - acc: 0.9836\n"
          ],
          "name": "stdout"
        }
      ]
    },
    {
      "cell_type": "code",
      "metadata": {
        "id": "JZjVf8oRYm1B",
        "colab_type": "code",
        "colab": {
          "base_uri": "https://localhost:8080/",
          "height": 51
        },
        "outputId": "f0b08ab4-868d-4354-8dac-d767387908ba"
      },
      "source": [
        "score = trainedRN.model.evaluate(X_test_normalized, to_categorical(y_test), verbose = 0)\n",
        "print('Test score:', score[0])\n",
        "print('Test accuracy:', score[1])"
      ],
      "execution_count": 26,
      "outputs": [
        {
          "output_type": "stream",
          "text": [
            "Test score: 0.02277722127735615\n",
            "Test accuracy: 0.9666666658719381\n"
          ],
          "name": "stdout"
        }
      ]
    },
    {
      "cell_type": "code",
      "metadata": {
        "id": "uVZo8l6tb6v3",
        "colab_type": "code",
        "colab": {
          "base_uri": "https://localhost:8080/",
          "height": 255
        },
        "outputId": "7fa529a4-cf49-4208-bb04-6ff6670c01b2"
      },
      "source": [
        "!ls"
      ],
      "execution_count": 27,
      "outputs": [
        {
          "output_type": "stream",
          "text": [
            " aula_20191109_leonardo\n",
            " aula_20191123_leonardo\n",
            " aula_20191207_leonardo\n",
            " aula_logica_fuzzy\n",
            " BIMaster_2019_Business_Intelligence.rar\n",
            " BIMaster_2019_DM.rar\n",
            " BIMaster_2019_Machine_Learning.rar\n",
            " BIMaster_2019_SAD.rar\n",
            " BreastCancer.csv\n",
            "'Copy of similaridade de textot.ipynb'\n",
            "'Copy of songdata.csv'\n",
            " draw_neural_net.py\n",
            " mobile.csv\n",
            " trabalho_leonardo\n"
          ],
          "name": "stdout"
        }
      ]
    },
    {
      "cell_type": "code",
      "metadata": {
        "id": "H99c-50g4le0",
        "colab_type": "code",
        "colab": {
          "base_uri": "https://localhost:8080/",
          "height": 410
        },
        "outputId": "110e62b9-48a6-48cd-d243-1ce0a17a6474"
      },
      "source": [
        "# USAR O ARQUIVO .py QUE FOI ENVIADO JUNTO HOJE\n",
        "from draw_neural_net import PlotHistory\n",
        "PlotHistory(trainedRN.history)"
      ],
      "execution_count": 28,
      "outputs": [
        {
          "output_type": "display_data",
          "data": {
            "image/png": "[encoded data removed]",
            "text/plain": [
              "<Figure size 1224x432 with 1 Axes>"
            ]
          },
          "metadata": {
            "tags": []
          }
        }
      ]
    },
    {
      "cell_type": "code",
      "metadata": {
        "id": "HQZjGb0UZvnl",
        "colab_type": "code",
        "colab": {}
      },
      "source": [
        "# Previsão\n",
        "from sklearn.metrics import confusion_matrix\n",
        "y_test_predicted = RN.predict(X_test_normalized)\n",
        "y_test_predicted_indexes = np.argmax(y_test_predicted,axis=1)\n",
        "y_test_indexes = y_test.values\n"
      ],
      "execution_count": 0,
      "outputs": []
    },
    {
      "cell_type": "code",
      "metadata": {
        "id": "9aw_ljZ5bDbv",
        "colab_type": "code",
        "colab": {
          "base_uri": "https://localhost:8080/",
          "height": 119
        },
        "outputId": "a2a5d7f9-a82b-4d54-f8d9-e31a0c825bee"
      },
      "source": [
        "# Matriz de confusão\n",
        "confMatrix = pd.DataFrame(confusion_matrix(y_test_predicted_indexes, y_test_indexes), \n",
        "                                           index=['0', '1','2','3'], columns=['0', '1', '2', '3'],) #matriz de confusão\n",
        "confMatrix.index.name = 'Actual'\n",
        "confMatrix.columns.name = 'Predicted'\n",
        "print(confMatrix)\n"
      ],
      "execution_count": 30,
      "outputs": [
        {
          "output_type": "stream",
          "text": [
            "Predicted    0    1    2    3\n",
            "Actual                       \n",
            "0          149    5    0    0\n",
            "1            2  127    5    0\n",
            "2            0    3  142    1\n",
            "3            0    0    4  162\n"
          ],
          "name": "stdout"
        }
      ]
    },
    {
      "cell_type": "code",
      "metadata": {
        "id": "A_u2Xs0BdFL8",
        "colab_type": "code",
        "colab": {}
      },
      "source": [
        ""
      ],
      "execution_count": 0,
      "outputs": []
    }
  ]
}